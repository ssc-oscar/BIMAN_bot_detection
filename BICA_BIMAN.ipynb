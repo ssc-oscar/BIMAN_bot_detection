{
 "cells": [
  {
   "cell_type": "markdown",
   "metadata": {},
   "source": [
    "## This Script has code for Running the BICA and the final BIMAN model\n",
    "\n",
    "Following files are assumed present:\n",
    "1. Bot data content\n",
    "2. Non-Bot data content\n",
    "3. Result of BIN \n",
    "4. Result of BIM"
   ]
  },
  {
   "cell_type": "code",
   "execution_count": 14,
   "metadata": {},
   "outputs": [
    {
     "name": "stderr",
     "output_type": "stream",
     "text": [
      "Loading required package: Formula\n",
      "Loading required package: plotrix\n",
      "Loading required package: TeachingDemos\n"
     ]
    }
   ],
   "source": [
    "library(data.table)\n",
    "library(randomForest)\n",
    "library(AUC)\n",
    "library(plotmo)\n"
   ]
  },
  {
   "cell_type": "code",
   "execution_count": null,
   "metadata": {},
   "outputs": [],
   "source": [
    "# Bot Data Content\n",
    "botdata = fread('/da4_data/play/botDetection/bot_Info.csv.gz', header = T)"
   ]
  },
  {
   "cell_type": "code",
   "execution_count": 6,
   "metadata": {},
   "outputs": [
    {
     "name": "stdout",
     "output_type": "stream",
     "text": [
      "Classes 'data.table' and 'data.frame':\t13150 obs. of  19 variables:\n",
      " $ Author                : chr  \"010011110110000101101011 <bot@oakmade.com>\" \"0asa <vince.bot@gmail.com>\" \"0q0.eu Team <bot@0q0.eu>\" \"0x48piraj [BOT] <31832371+5p1d3r@users.noreply.github.com>\" ...\n",
      " $ No.Commit             : int  1 91 5 20 3 1 337 2 34 4 ...\n",
      " $ Days.Active           : int  1 381 1 1 1 1 159 3 790 1 ...\n",
      " $ Avg.Commit.pYear      : num  1 45.5 5 20 3 ...\n",
      " $ Median.Commit.pYear   : num  1 45.5 5 20 3 ...\n",
      " $ Activity.Hours        : int  1 15 4 2 2 1 22 2 7 2 ...\n",
      " $ Spike.Hours           : int  1 2 4 2 2 1 8 2 1 1 ...\n",
      " $ Circ.Variance.Hour    : num  0 3.1213 0.1892 0.0201 0.2612 ...\n",
      " $ Tot.uniq.FilesChanged : int  1 108 91 3 83 1 7151 1 5 2 ...\n",
      " $ Tot.FilesChanged      : int  1 210 97 20 83 1 9140 2 34 4 ...\n",
      " $ Uniq.File.Exten       : int  1 29 3 3 31 1 240 1 2 2 ...\n",
      " $ Avg.File.pCommit      : num  1 2.31 19.4 1 27.67 ...\n",
      " $ Std.File.pCommit      : num  0 2.04 38.91 0 46.19 ...\n",
      " $ No.Timezones          : int  1 3 1 2 1 1 2 1 2 1 ...\n",
      " $ Std.Timezones         : num  0 1.25 0 4.44 0 ...\n",
      " $ Tot.Projects          : int  1 5614 5 20 3 74 10090 4 400 17 ...\n",
      " $ Tot.uniq.Projects     : int  1 2746 1 1 1 74 65 2 371 15 ...\n",
      " $ Median.Project.pCommit: num  1 2 1 1 1 74 25 2 1 1 ...\n",
      " $ Std.Project.pCommit   : num  0 350 0 0 0 ...\n",
      " - attr(*, \".internal.selfref\")=<externalptr> \n"
     ]
    }
   ],
   "source": [
    "str(botdata)"
   ]
  },
  {
   "cell_type": "code",
   "execution_count": 7,
   "metadata": {},
   "outputs": [
    {
     "name": "stdout",
     "output_type": "stream",
     "text": [
      "Classes 'data.table' and 'data.frame':\t13150 obs. of  19 variables:\n",
      " $ Author                : chr  \"adiel <adam@adamdiel.com>\" \"YannDoy <doy.yann@hotmail.com>\" \"irvincito <isc.irving.rosales@gmail.com>\" \"Jesper Corba <jesper@discworld.abf.nl>\" ...\n",
      " $ No.Commit             : int  6 43 1 2 87 1 1 1 96 1 ...\n",
      " $ Days.Active           : int  5 1002 1 1 1425 1 1 1 1732 1 ...\n",
      " $ Avg.Commit.pYear      : num  6 14.3 1 2 29 ...\n",
      " $ Median.Commit.pYear   : num  6 2 1 2 7 1 1 1 11 1 ...\n",
      " $ Activity.Hours        : int  2 6 1 1 17 1 1 1 18 1 ...\n",
      " $ Spike.Hours           : int  2 2 1 1 4 1 1 1 4 1 ...\n",
      " $ Circ.Variance.Hour    : num  1.231 0.561 0 0 3.808 ...\n",
      " $ Tot.uniq.FilesChanged : int  15 19 18 2 50 1 2 31 304 1 ...\n",
      " $ Tot.FilesChanged      : int  17 69 18 2 179 1 2 31 395 1 ...\n",
      " $ Uniq.File.Exten       : int  10 7 12 2 11 1 2 11 59 1 ...\n",
      " $ Avg.File.pCommit      : num  2.83 1.6 0 1 2.06 ...\n",
      " $ Std.File.pCommit      : num  2.71 1.26 0 0 1.79 ...\n",
      " $ No.Timezones          : int  1 2 1 1 2 1 1 1 3 1 ...\n",
      " $ Std.Timezones         : num  0 0.355 0 0 0.693 ...\n",
      " $ Tot.Projects          : int  6 43 1 2 156 1 1 1 122 1 ...\n",
      " $ Tot.uniq.Projects     : int  1 3 1 1 5 1 1 1 9 1 ...\n",
      " $ Median.Project.pCommit: num  1 1 0 1 2 0 0 0 1 0 ...\n",
      " $ Std.Project.pCommit   : num  0 0 0 0 0.407 ...\n",
      " - attr(*, \".internal.selfref\")=<externalptr> \n"
     ]
    }
   ],
   "source": [
    "# Bot Data Content\n",
    "nonbotdata = fread('/da4_data/play/botDetection/non_bot_Info.csv.gz', header = T)\n",
    "str(nonbotdata)"
   ]
  },
  {
   "cell_type": "code",
   "execution_count": 8,
   "metadata": {},
   "outputs": [],
   "source": [
    "botdata$isBot = 1\n",
    "nonbotdata$isBot = 0"
   ]
  },
  {
   "cell_type": "code",
   "execution_count": 9,
   "metadata": {},
   "outputs": [
    {
     "data": {
      "text/plain": [
       "   No.Commit          Days.Active      Avg.Commit.pYear   Median.Commit.pYear\n",
       " Min.   :      1.0   Min.   :    1.0   Min.   :     1.0   Min.   :     1.0   \n",
       " 1st Qu.:      1.0   1st Qu.:    1.0   1st Qu.:     1.0   1st Qu.:     1.0   \n",
       " Median :      3.0   Median :    2.0   Median :     3.0   Median :     3.0   \n",
       " Mean   :    528.2   Mean   :  185.1   Mean   :   159.0   Mean   :   152.4   \n",
       " 3rd Qu.:     17.0   3rd Qu.:  143.0   3rd Qu.:    11.5   3rd Qu.:    11.0   \n",
       " Max.   :2463758.0   Max.   :24856.0   Max.   :615939.5   Max.   :701464.0   \n",
       " Activity.Hours    Spike.Hours     Circ.Variance.Hour Tot.uniq.FilesChanged\n",
       " Min.   : 1.000   Min.   : 0.000   Min.   : 0.0000    Min.   :      0      \n",
       " 1st Qu.: 1.000   1st Qu.: 1.000   1st Qu.: 0.0000    1st Qu.:      1      \n",
       " Median : 2.000   Median : 1.000   Median : 0.0000    Median :     10      \n",
       " Mean   : 5.017   Mean   : 2.408   Mean   : 0.7988    Mean   :   1376      \n",
       " 3rd Qu.: 7.000   3rd Qu.: 3.000   3rd Qu.: 1.2313    3rd Qu.:     88      \n",
       " Max.   :24.000   Max.   :24.000   Max.   :13.3228    Max.   :5118357      \n",
       " Tot.FilesChanged   Uniq.File.Exten    Avg.File.pCommit    Std.File.pCommit   \n",
       " Min.   :       0   Min.   :    0.00   Min.   :     0.00   Min.   :     0.00  \n",
       " 1st Qu.:       3   1st Qu.:    1.00   1st Qu.:     1.00   1st Qu.:     0.00  \n",
       " Median :      20   Median :    2.00   Median :     2.00   Median :     0.00  \n",
       " Mean   :    6656   Mean   :   38.15   Mean   :    62.54   Mean   :    75.02  \n",
       " 3rd Qu.:     142   3rd Qu.:    9.00   3rd Qu.:    12.20   3rd Qu.:     5.58  \n",
       " Max.   :27335682   Max.   :50122.00   Max.   :101565.33   Max.   :175868.69  \n",
       "  No.Timezones    Std.Timezones      Tot.Projects      Tot.uniq.Projects \n",
       " Min.   : 1.000   Min.   : 0.0000   Min.   :       0   Min.   :    0.00  \n",
       " 1st Qu.: 1.000   1st Qu.: 0.0000   1st Qu.:       2   1st Qu.:    1.00  \n",
       " Median : 1.000   Median : 0.0000   Median :       5   Median :    2.00  \n",
       " Mean   : 1.309   Mean   : 0.3054   Mean   :    5299   Mean   :   75.89  \n",
       " 3rd Qu.: 1.000   3rd Qu.: 0.0000   3rd Qu.:      24   3rd Qu.:    4.00  \n",
       " Max.   :30.000   Max.   :10.1559   Max.   :46112666   Max.   :81022.00  \n",
       " Median.Project.pCommit Std.Project.pCommit isBot    \n",
       " Min.   :   0.000       Min.   :    0.000   0:13150  \n",
       " 1st Qu.:   1.000       1st Qu.:    0.000   1:13150  \n",
       " Median :   1.000       Median :    0.000            \n",
       " Mean   :   4.045       Mean   :    9.298            \n",
       " 3rd Qu.:   1.000       3rd Qu.:    0.000            \n",
       " Max.   :4667.000       Max.   :18093.728            "
      ]
     },
     "metadata": {},
     "output_type": "display_data"
    }
   ],
   "source": [
    "#Combine Data\n",
    "alldata = rbind(botdata, nonbotdata)\n",
    "all.author = alldata$Author\n",
    "alldata$Author = NULL\n",
    "alldata$isBot = factor(alldata$isBot)\n",
    "summary(alldata)"
   ]
  },
  {
   "cell_type": "code",
   "execution_count": null,
   "metadata": {},
   "outputs": [],
   "source": [
    "# Creating data for Random Forest Model: 70-30 ration for Train and Test set\n",
    "ind = 1:nrow(alldata)\n",
    "indTRAIN = sample(ind,round(0.7*length(ind)))\n",
    "indTEST <- ind[-indTRAIN]\n",
    "isBot = alldata$isBot\n",
    "alldata$isBot = NULL"
   ]
  },
  {
   "cell_type": "code",
   "execution_count": 11,
   "metadata": {},
   "outputs": [],
   "source": [
    "# Subset the data based on previous iterations to get optimal result\n",
    "alldata.sub = alldata[,c(10,9,12,16,11,17)]"
   ]
  },
  {
   "cell_type": "code",
   "execution_count": 30,
   "metadata": {},
   "outputs": [
    {
     "data": {
      "text/html": [
       "0.895703802962006"
      ],
      "text/latex": [
       "0.895703802962006"
      ],
      "text/markdown": [
       "0.895703802962006"
      ],
      "text/plain": [
       "[1] 0.8957038"
      ]
     },
     "metadata": {},
     "output_type": "display_data"
    },
    {
     "data": {
      "image/png": "[encoded data removed]",
      "text/plain": [
       "Plot with title \"Random Forest Model: Bot Detection\""
      ]
     },
     "metadata": {},
     "output_type": "display_data"
    }
   ],
   "source": [
    "set.seed(10)\n",
    "BICA <- randomForest(x=alldata.sub[indTRAIN,],\n",
    "                   y=isBot[indTRAIN], ntree=100, importance=T)\n",
    "pred <- predict(BICA, alldata.sub[indTEST,], type='prob')[,2]\n",
    "auc(roc(pred,isBot[indTEST]))\n",
    "# auc(accuracy(pred,isBot[indTEST]))\n",
    "varImpPlot(BICA, type=1, main= 'Random Forest Model: Bot Detection')"
   ]
  },
  {
   "cell_type": "code",
   "execution_count": 31,
   "metadata": {},
   "outputs": [],
   "source": [
    "# Saving the Random Forest Model\n",
    "save(BICA, file='BICA_model.Rdata')"
   ]
  },
  {
   "cell_type": "code",
   "execution_count": 33,
   "metadata": {},
   "outputs": [
    {
     "name": "stdout",
     "output_type": "stream",
     "text": [
      "calculating apartdep for Uniq.File.Exten \n",
      "calculating apartdep for Tot.FilesChanged \n",
      "calculating apartdep for Std.File.pCommit \n",
      "calculating apartdep for Tot.uniq.Projects \n",
      "calculating apartdep for Avg.File.pCommit \n",
      "calculating apartdep for Median.Project.pCommit \n"
     ]
    },
    {
     "data": {
      "image/png": "[encoded data removed]",
      "text/plain": [
       "Plot with title \"6  Median.Project.pCmmt\""
      ]
     },
     "metadata": {},
     "output_type": "display_data"
    }
   ],
   "source": [
    "plotmo(BICA, type='prob', pmethod='apartdep', degree2 = F, persp.ticktype=\"detailed\", persp.nticks=3, \n",
    "       caption = 'Partial Dependence plot for all predictors in BICA model', cex = 1.3)"
   ]
  },
  {
   "cell_type": "markdown",
   "metadata": {},
   "source": [
    "## This concludes the BICA Training part\n",
    "## Example of using BICA to predict bots is shown below"
   ]
  },
  {
   "cell_type": "code",
   "execution_count": 17,
   "metadata": {},
   "outputs": [],
   "source": [
    "ftestdata = fread('/da4_data/play/botDetection/test_Info_paper.csv.gz', header = T)\n",
    "auth = ftestdata$Author\n",
    "ftestdata$Author = NULL\n"
   ]
  },
  {
   "cell_type": "code",
   "execution_count": 18,
   "metadata": {},
   "outputs": [
    {
     "data": {
      "text/html": [
       "<table>\n",
       "<thead><tr><th scope=col>auth</th><th scope=col>pcl</th></tr></thead>\n",
       "<tbody>\n",
       "\t<tr><td><span style=white-space:pre-wrap>dependabot[bot] &lt;support@dependabot.com&gt;          </span></td><td>1                                                                                               </td></tr>\n",
       "\t<tr><td><span style=white-space:pre-wrap>greenkeeper &lt;felixhennigfh@gmail.com&gt;             </span></td><td>0                                                                                               </td></tr>\n",
       "\t<tr><td><span style=white-space:pre-wrap>Greenkeeper &lt;support@greenkeeper.io&gt;              </span></td><td>1                                                                                               </td></tr>\n",
       "\t<tr><td><span style=white-space:pre-wrap>greenkeeper.io &lt;support@greenkeeper.io&gt;           </span></td><td>1                                                                                               </td></tr>\n",
       "\t<tr><td><span style=white-space:pre-wrap>greenkeeper-keeper &lt;nodaguti+keeper@gmail.com&gt;    </span></td><td>1                                                                                               </td></tr>\n",
       "\t<tr><td>greenkeeper &lt;greenkeeper@users.noreply.github.com&gt;</td><td>0                                                       </td></tr>\n",
       "</tbody>\n",
       "</table>\n"
      ],
      "text/latex": [
       "\\begin{tabular}{r|ll}\n",
       " auth & pcl\\\\\n",
       "\\hline\n",
       "\t dependabot{[}bot{]} <support@dependabot.com>           & 1                                                     \\\\\n",
       "\t greenkeeper <felixhennigfh@gmail.com>              & 0                                                 \\\\\n",
       "\t Greenkeeper <support@greenkeeper.io>               & 1                                                 \\\\\n",
       "\t greenkeeper.io <support@greenkeeper.io>            & 1                                                 \\\\\n",
       "\t greenkeeper-keeper <nodaguti+keeper@gmail.com>     & 1                                                 \\\\\n",
       "\t greenkeeper <greenkeeper@users.noreply.github.com> & 0                                                 \\\\\n",
       "\\end{tabular}\n"
      ],
      "text/markdown": [
       "\n",
       "auth | pcl | \n",
       "|---|---|---|---|---|---|\n",
       "| dependabot[bot] <support@dependabot.com>           | 1                                                  | \n",
       "| greenkeeper <felixhennigfh@gmail.com>              | 0                                                  | \n",
       "| Greenkeeper <support@greenkeeper.io>               | 1                                                  | \n",
       "| greenkeeper.io <support@greenkeeper.io>            | 1                                                  | \n",
       "| greenkeeper-keeper <nodaguti+keeper@gmail.com>     | 1                                                  | \n",
       "| greenkeeper <greenkeeper@users.noreply.github.com> | 0                                                  | \n",
       "\n",
       "\n"
      ],
      "text/plain": [
       "  auth                                               pcl\n",
       "1 dependabot[bot] <support@dependabot.com>           1  \n",
       "2 greenkeeper <felixhennigfh@gmail.com>              0  \n",
       "3 Greenkeeper <support@greenkeeper.io>               1  \n",
       "4 greenkeeper.io <support@greenkeeper.io>            1  \n",
       "5 greenkeeper-keeper <nodaguti+keeper@gmail.com>     1  \n",
       "6 greenkeeper <greenkeeper@users.noreply.github.com> 0  "
      ]
     },
     "metadata": {},
     "output_type": "display_data"
    }
   ],
   "source": [
    "# Predicting Class\n",
    "pcl = predict(rfModel2, ftestdata, type='class')\n",
    "df.paper.c = data.frame(auth, pcl)\n",
    "head(df.paper.c)"
   ]
  },
  {
   "cell_type": "code",
   "execution_count": 19,
   "metadata": {},
   "outputs": [
    {
     "data": {
      "text/html": [
       "<table>\n",
       "<thead><tr><th scope=col>auth</th><th scope=col>p</th></tr></thead>\n",
       "<tbody>\n",
       "\t<tr><td><span style=white-space:pre-wrap>dependabot[bot] &lt;support@dependabot.com&gt;          </span></td><td>0.93                                                                                            </td></tr>\n",
       "\t<tr><td><span style=white-space:pre-wrap>greenkeeper &lt;felixhennigfh@gmail.com&gt;             </span></td><td>0.42                                                                                            </td></tr>\n",
       "\t<tr><td><span style=white-space:pre-wrap>Greenkeeper &lt;support@greenkeeper.io&gt;              </span></td><td>0.85                                                                                            </td></tr>\n",
       "\t<tr><td><span style=white-space:pre-wrap>greenkeeper.io &lt;support@greenkeeper.io&gt;           </span></td><td>0.89                                                                                            </td></tr>\n",
       "\t<tr><td><span style=white-space:pre-wrap>greenkeeper-keeper &lt;nodaguti+keeper@gmail.com&gt;    </span></td><td>0.90                                                                                            </td></tr>\n",
       "\t<tr><td>greenkeeper &lt;greenkeeper@users.noreply.github.com&gt;</td><td>0.26                                                    </td></tr>\n",
       "</tbody>\n",
       "</table>\n"
      ],
      "text/latex": [
       "\\begin{tabular}{r|ll}\n",
       " auth & p\\\\\n",
       "\\hline\n",
       "\t dependabot{[}bot{]} <support@dependabot.com>           & 0.93                                                  \\\\\n",
       "\t greenkeeper <felixhennigfh@gmail.com>              & 0.42                                              \\\\\n",
       "\t Greenkeeper <support@greenkeeper.io>               & 0.85                                              \\\\\n",
       "\t greenkeeper.io <support@greenkeeper.io>            & 0.89                                              \\\\\n",
       "\t greenkeeper-keeper <nodaguti+keeper@gmail.com>     & 0.90                                              \\\\\n",
       "\t greenkeeper <greenkeeper@users.noreply.github.com> & 0.26                                              \\\\\n",
       "\\end{tabular}\n"
      ],
      "text/markdown": [
       "\n",
       "auth | p | \n",
       "|---|---|---|---|---|---|\n",
       "| dependabot[bot] <support@dependabot.com>           | 0.93                                               | \n",
       "| greenkeeper <felixhennigfh@gmail.com>              | 0.42                                               | \n",
       "| Greenkeeper <support@greenkeeper.io>               | 0.85                                               | \n",
       "| greenkeeper.io <support@greenkeeper.io>            | 0.89                                               | \n",
       "| greenkeeper-keeper <nodaguti+keeper@gmail.com>     | 0.90                                               | \n",
       "| greenkeeper <greenkeeper@users.noreply.github.com> | 0.26                                               | \n",
       "\n",
       "\n"
      ],
      "text/plain": [
       "  auth                                               p   \n",
       "1 dependabot[bot] <support@dependabot.com>           0.93\n",
       "2 greenkeeper <felixhennigfh@gmail.com>              0.42\n",
       "3 Greenkeeper <support@greenkeeper.io>               0.85\n",
       "4 greenkeeper.io <support@greenkeeper.io>            0.89\n",
       "5 greenkeeper-keeper <nodaguti+keeper@gmail.com>     0.90\n",
       "6 greenkeeper <greenkeeper@users.noreply.github.com> 0.26"
      ]
     },
     "metadata": {},
     "output_type": "display_data"
    }
   ],
   "source": [
    "# Predicting Probability\n",
    " p = predict(rfModel2, ftestdata, type='prob')[,2]\n",
    "df.paper.p = data.frame(auth, p)\n",
    "head(df.paper.p)"
   ]
  },
  {
   "cell_type": "markdown",
   "metadata": {},
   "source": [
    "## Training the Ensemble Model (BIMAN) is similar:\n",
    "\n",
    "Generate data frame for test samples with their BICA probability (`p`), 1-BIM ratio (`ratio`), and name prediction from BIN (`name`)"
   ]
  },
  {
   "cell_type": "code",
   "execution_count": null,
   "metadata": {},
   "outputs": [],
   "source": [
    "# Generate bot data for BIMAN training - Either run this or use example data from the next cell\n",
    "bto = fread('/da4_data/play/botDetection/bot_template.out', header =F) # BIM o/p for bots\n",
    "colnames(bto) = c('auth','commits', 'templates', 'ratio')\n",
    "bot_data_all = merge(df.paper.p, bto) # df.paper.p: BICA probability for bots\n",
    "bot_data_all =  bot_data_all[,c(1,2,5)]\n",
    "bot_data_all$ratio = 1 - bot_data_all$ratio\n",
    "bot_data_all$name = 1 # BIN o/p for bots: set to 1 for demonstration\n"
   ]
  },
  {
   "cell_type": "code",
   "execution_count": 25,
   "metadata": {},
   "outputs": [
    {
     "name": "stdout",
     "output_type": "stream",
     "text": [
      "'data.frame':\t67 obs. of  5 variables:\n",
      " $ auth : Factor w/ 61 levels \"Alba bot <deploybot@nanoporetech.com>\",..: 1 2 4 5 6 7 8 9 32 33 ...\n",
      " $ p    : num  0.97 0.89 0.57 1 1 1 0.87 0.22 0.99 1 ...\n",
      " $ ratio: num  0 0 0.833 0 1 ...\n",
      " $ name : int  1 1 1 1 1 1 1 1 1 1 ...\n",
      " $ BOT  : int  1 1 1 1 1 1 1 1 1 1 ...\n"
     ]
    }
   ],
   "source": [
    "### THIS IS AN EXAMPLE CELL - DO NOT RUN IF YOU RAN THE CELL ABOVE\n",
    "# Showing pre-calculated data for example, similar structure for non bot data\n",
    "load('bot_data_all.Rdata')\n",
    "str(bot_data_all)"
   ]
  },
  {
   "cell_type": "markdown",
   "metadata": {},
   "source": [
    "## You need to run similar steps for non-bots as well"
   ]
  },
  {
   "cell_type": "code",
   "execution_count": null,
   "metadata": {},
   "outputs": [],
   "source": [
    "set.seed(25)\n",
    "nb.aa = sample(13150,67)\n",
    "df.nb = nonbotdata[nb.aa,]\n",
    "nbaa = df.nb$Author\n",
    "df.nb$Author = NULL\n",
    "p = predict(BICA, df.nb, type='prob')[,2]\n",
    "df.nbp = data.frame(nbaa, p)\n",
    "colnames(df.nbp) = c('auth', 'p')\n"
   ]
  },
  {
   "cell_type": "code",
   "execution_count": null,
   "metadata": {},
   "outputs": [],
   "source": [
    "nbto = fread('/da4_data/play/botDetection/nonbot_template.out', header =F)\n",
    "colnames(nbto) = c('auth','commits', 'templates', 'ratio')\n",
    "\n",
    "df.nba = merge(df.nbp, nbto)\n",
    "df.nba =  df.nba[,c(1,2,5)]\n",
    "df.nba$ratio = 1 - df.nba$ratio\n",
    "df.nba$name = 0"
   ]
  },
  {
   "cell_type": "code",
   "execution_count": null,
   "metadata": {},
   "outputs": [],
   "source": [
    "#Merge bot & non-bot data\n",
    "df.nba$BOT = 0\n",
    "df.b.all$BOT = 1\n",
    "df.f.all = data.frame(rbind(df.b.all, df.nba))\n",
    "df.f.all$BOT = factor(df.f.all$BOT)\n",
    "\n",
    "df.f.all$name = factor(df.f.all$name)\n",
    "ta.f = df.f.all$auth\n",
    "df.f.all$auth = NULL\n",
    "\n",
    "BOT = df.f.all$BOT\n",
    "df.f.all$BOT = NULL"
   ]
  },
  {
   "cell_type": "code",
   "execution_count": null,
   "metadata": {},
   "outputs": [],
   "source": [
    "# Training the BIMAN model:\n",
    "set.seed(100)\n",
    "ind = 1:nrow(df.f.all)\n",
    "indTRAIN = sample(ind,round(0.8*length(ind)))\n",
    "indTEST <- ind[-indTRAIN]\n",
    "\n",
    "rfModel <- randomForest(x=data_all_biman[indTRAIN,],  y=BOT[indTRAIN], ntree=1000, importance=T) "
   ]
  },
  {
   "cell_type": "code",
   "execution_count": 26,
   "metadata": {},
   "outputs": [],
   "source": [
    "# Loading pre-trained BIMAN model - EITHER RUN THE TRAINING OR USE PRE_TRAINED DATA\n",
    "load('ensemble.Rdata')"
   ]
  },
  {
   "cell_type": "code",
   "execution_count": 29,
   "metadata": {},
   "outputs": [
    {
     "data": {
      "image/png": "[encoded data removed]",
      "text/plain": [
       "Plot with title \"Random Forest Model: Bot Detection\""
      ]
     },
     "metadata": {},
     "output_type": "display_data"
    }
   ],
   "source": [
    "varImpPlot(rfModel, type=1, main= 'Random Forest Model: Bot Detection')"
   ]
  },
  {
   "cell_type": "markdown",
   "metadata": {},
   "source": [
    "## Name of the BICA model: BICA\n",
    "## Name of ensemble BIMAN model: rfModel"
   ]
  }
 ],
 "metadata": {
  "kernelspec": {
   "display_name": "R",
   "language": "R",
   "name": "ir"
  },
  "language_info": {
   "codemirror_mode": "r",
   "file_extension": ".r",
   "mimetype": "text/x-r-source",
   "name": "R",
   "pygments_lexer": "r",
   "version": "3.6.3"
  }
 },
 "nbformat": 4,
 "nbformat_minor": 2
}
